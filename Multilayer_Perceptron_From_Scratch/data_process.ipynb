{
 "cells": [
  {
   "cell_type": "code",
   "execution_count": null,
   "metadata": {},
   "outputs": [],
   "source": [
    "# Let's start to process the irirs dataset\n",
    "# We will use the pandas library to load the data\n",
    "import pandas as pd\n",
    "import numpy as np\n",
    "from typing import List, Tuple\n",
    "\n",
    "# Load the data\n",
    "data = pd.read_csv('iris.csv', header=None)\n",
    "print(data.head())\n",
    "\n",
    "# Let's see the shape of the data\n",
    "print(data.shape)\n",
    "\n",
    "# Let's see the data types of the columns\n",
    "print(data.dtypes)"
   ]
  },
  {
   "cell_type": "code",
   "execution_count": null,
   "metadata": {},
   "outputs": [],
   "source": [
    "# Check for missing values\n",
    "print(data.isnull().sum())\n",
    "data.iloc[:, 4]"
   ]
  },
  {
   "cell_type": "code",
   "execution_count": null,
   "metadata": {},
   "outputs": [],
   "source": [
    "# Map the target values to integers for the classification\n",
    "data[4] = data[4].map({'Iris-setosa': 0, 'Iris-versicolor': 1, 'Iris-virginica': 2})\n",
    "print(data.head())"
   ]
  },
  {
   "cell_type": "code",
   "execution_count": null,
   "metadata": {},
   "outputs": [],
   "source": [
    "# Let's process the data for winequality-white.csv\n",
    "data = pd.read_csv('winequality-white.csv', sep=';')\n",
    "print(data.head())"
   ]
  },
  {
   "cell_type": "code",
   "execution_count": 18,
   "metadata": {},
   "outputs": [
    {
     "name": "stdout",
     "output_type": "stream",
     "text": [
      "fixed acidity           0\n",
      "volatile acidity        0\n",
      "citric acid             0\n",
      "residual sugar          0\n",
      "chlorides               0\n",
      "free sulfur dioxide     0\n",
      "total sulfur dioxide    0\n",
      "density                 0\n",
      "pH                      0\n",
      "sulphates               0\n",
      "alcohol                 0\n",
      "quality                 0\n",
      "dtype: int64\n"
     ]
    }
   ],
   "source": [
    "# Check for missing values\n",
    "print(data.isnull().sum())\n",
    "# Check the data types\n",
    "print(data.dtypes)"
   ]
  },
  {
   "cell_type": "code",
   "execution_count": null,
   "metadata": {},
   "outputs": [],
   "source": [
    "# Define data handling functions\n",
    "def load_iris() -> Tuple[np.ndarray, np.ndarray]:\n",
    "    \"\"\"Load the Iris dataset and return the features and labels\"\"\"\n",
    "    data = pd.read_csv(\"iris.csv\")\n",
    "    # Map the target values to integers for the classification\n",
    "    data['species'] = data['species'].map({'setosa': 0, 'versicolor': 1, 'virginica': 2})\n",
    "    X = data.iloc[:, :-1].values\n",
    "    y = pd.get_dummies(data.iloc[:, -1]).values\n",
    "    return X, y\n",
    "\n",
    "\n",
    "def load_and_normalize_wine_quality() -> Tuple[np.ndarray, np.ndarray]:\n",
    "    \"\"\"Load the Wine Quality dataset and normalize the features\"\"\"\n",
    "    data = pd.read_csv(\"winequality-white.csv\", delimiter=';')\n",
    "    normalized_data = (data.iloc[:, :-1] - data.iloc[:, :-1].min()) / (data.iloc[:, :-1].max() - data.iloc[:, :-1].min())\n",
    "    y = pd.get_dummies(data.iloc[:, -1]).values\n",
    "    return normalized_data.values, y\n",
    "\n",
    "\n",
    "def custom_train_test_split(X: np.ndarray, y: np.ndarray, test_size=0.2, random_state=42) -> Tuple[np.ndarray, np.ndarray, np.ndarray, np.ndarray]:\n",
    "    \"\"\"Custom train test split function to split the data into training and testing sets\"\"\"\n",
    "    np.random.seed(random_state)\n",
    "    indices = np.random.permutation(X.shape[0])\n",
    "    test_size = int(X.shape[0] * test_size)\n",
    "    test_indices = indices[:test_size]\n",
    "    train_indices = indices[test_size:]\n",
    "    return X[train_indices], X[test_indices], y[train_indices], y[test_indices]\n"
   ]
  },
  {
   "cell_type": "code",
   "execution_count": null,
   "metadata": {},
   "outputs": [],
   "source": [
    "load_iris()"
   ]
  }
 ],
 "metadata": {
  "kernelspec": {
   "display_name": "project_env",
   "language": "python",
   "name": "python3"
  },
  "language_info": {
   "codemirror_mode": {
    "name": "ipython",
    "version": 3
   },
   "file_extension": ".py",
   "mimetype": "text/x-python",
   "name": "python",
   "nbconvert_exporter": "python",
   "pygments_lexer": "ipython3",
   "version": "3.12.2"
  }
 },
 "nbformat": 4,
 "nbformat_minor": 2
}
